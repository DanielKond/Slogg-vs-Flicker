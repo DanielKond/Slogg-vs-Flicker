{
 "cells": [
  {
   "cell_type": "code",
   "execution_count": 22,
   "metadata": {
    "collapsed": false
   },
   "outputs": [
    {
     "data": {
      "text/plain": [
       "816.27015538452542"
      ]
     },
     "execution_count": 22,
     "metadata": {},
     "output_type": "execute_result"
    }
   ],
   "source": [
    "import numpy as np\n",
    "import matplotlib.pyplot as plt\n",
    "import kplr\n",
    "import pyfits\n",
    "client = kplr.API()\n",
    "\n",
    "def LC(arg):\n",
    "    koi=client.koi(arg)\n",
    "\n",
    "    lcs = koi.get_light_curves(short_cadence=False)\n",
    "    time, flux, ferr, quality = [], [], [], []\n",
    "\n",
    "    for lc in lcs:\n",
    "        with lc.open() as f:\n",
    "            # The lightcurve data are in the first FITS HDU.\n",
    "            hdu_data = f[1].data\n",
    "            time.append(hdu_data[\"time\"])\n",
    "            flux.append(hdu_data[\"pdcsap_flux\"])\n",
    "            ferr.append(hdu_data[\"sap_flux_err\"])\n",
    "            quality.append(hdu_data[\"sap_quality\"])\n",
    "    return time, flux\n",
    "\n",
    "def get_flux(arg):\n",
    "    time, flux= LC(arg)\n",
    "    T=[]\n",
    "    F=[]\n",
    "    for t,f in zip(time,flux):\n",
    "        F=np.append(F,f)\n",
    "        T=np.append(T,t)\n",
    "    return T, F\n",
    "\n",
    "def get_num(list):\n",
    "    K=[]\n",
    "    for i in list:\n",
    "        S1=str(i)\n",
    "        X=float(''.join(ele for ele in S1 if ele.isdigit()))\n",
    "        K.append(X/100)\n",
    "    return K\n",
    "\n",
    "def intersect(*lists):\n",
    "    return list(set.intersection(*map(set, lists)))\n",
    "\n",
    "W1=\"koi_steff>4500\"\n",
    "W2=\"koi_steff<6650\"\n",
    "W3=\"koi_slogg>2.5\"\n",
    "W4=\"koi_slogg<4.5\"\n",
    "W5=\"koi_kepmag>12\"\n",
    "\n",
    "kois1 = client.kois(where=W1)\n",
    "kois2 = client.kois(where=W2)\n",
    "kois3 = client.kois(where=W3)\n",
    "kois4 = client.kois(where=W4)\n",
    "kois5 = client.kois(where=W5)\n",
    "    \n",
    "K1=get_num(kois1)\n",
    "K2=get_num(kois2)\n",
    "K3=get_num(kois3)\n",
    "K4=get_num(kois4)\n",
    "K5=get_num(kois5)\n",
    "\n",
    "\n",
    "X=intersect(K1,K2,K3,K4,K5)\n",
    "\n",
    "for i in range(0,100):\n",
    "    T, F = get_flux(X[i])\n",
    "    "
   ]
  },
  {
   "cell_type": "code",
   "execution_count": null,
   "metadata": {
    "collapsed": true
   },
   "outputs": [],
   "source": []
  }
 ],
 "metadata": {
  "kernelspec": {
   "display_name": "Python 2",
   "language": "python",
   "name": "python2"
  },
  "language_info": {
   "codemirror_mode": {
    "name": "ipython",
    "version": 2
   },
   "file_extension": ".py",
   "mimetype": "text/x-python",
   "name": "python",
   "nbconvert_exporter": "python",
   "pygments_lexer": "ipython2",
   "version": "2.7.13"
  }
 },
 "nbformat": 4,
 "nbformat_minor": 2
}
